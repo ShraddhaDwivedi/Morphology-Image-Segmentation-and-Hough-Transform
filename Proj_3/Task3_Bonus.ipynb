{
 "cells": [
  {
   "cell_type": "code",
   "execution_count": 9,
   "metadata": {},
   "outputs": [
    {
     "name": "stdout",
     "output_type": "stream",
     "text": [
      "\tNumber of coins detected : 81\n",
      "\tCo-ordinate values : [(143, 66), (143, 67), (143, 68), (519, 84), (520, 84), (520, 85), (519, 86), (519, 87), (604, 134), (605, 134), (604, 135), (605, 135), (605, 136), (605, 137), (246, 186), (247, 186), (246, 187), (247, 187), (245, 188), (279, 199), (279, 201), (280, 201), (279, 202), (280, 202), (280, 203), (280, 204), (382, 212), (383, 212), (383, 213), (382, 214), (383, 214), (382, 215), (383, 215), (383, 216), (383, 217), (382, 218), (382, 219), (46, 252), (47, 252), (47, 254), (47, 255), (253, 341), (254, 341), (253, 342), (254, 342), (254, 343), (253, 344), (254, 344), (531, 363), (532, 363), (531, 364), (532, 364), (531, 365), (532, 365), (532, 366), (425, 399), (426, 399), (427, 399), (425, 400), (426, 400), (427, 400), (425, 401), (426, 401), (427, 401), (425, 402), (426, 402), (427, 402), (47, 422), (48, 422), (49, 422), (47, 423), (48, 423), (49, 423), (47, 424), (48, 424), (49, 424), (48, 425), (49, 425), (50, 425), (48, 426), (49, 426)]\n"
     ]
    }
   ],
   "source": [
    "from cv2 import imread, imwrite, circle as cir\n",
    "import numpy as np\n",
    "import math as math\n",
    "from Utilities import sharpen, blur, edgeDetector\n",
    "\n",
    "def displayImage(img, outputname):\n",
    "    imwrite('outputImages/'+outputname+'.jpg', img)\n",
    "    return 1\n",
    "\n",
    "imgLoc = './hough.jpg'\n",
    "h = 30\n",
    "thresh = 0\n",
    "radius = 24\n",
    "noOfCircle = 80\n",
    "\n",
    "\n",
    "\n",
    "def imageThreshold(img0, threshold):\n",
    "    img = img0.copy()\n",
    "    for i in range(0, len(img)):\n",
    "        for j in range(0, len(img[0])):\n",
    "            if (img[i,j]<threshold):\n",
    "                img[i,j] = 0\n",
    "    return img\n",
    "\n",
    "\n",
    "def createImage(img, imgLength, imgWidth):\n",
    "    accImg = np.zeros((imgLength, imgWidth))\n",
    "    for i in range(0, imgLength):\n",
    "        y = i\n",
    "        for j in range(0, imgWidth):\n",
    "            x = j\n",
    "            if(img[i,j]>h):\n",
    "                for l in range(0, 360):\n",
    "                    o = math.radians(l)\n",
    "                    a = int(x - radius*math.cos(o))\n",
    "                    b = int(y - radius*math.sin(o))\n",
    "                    if (a>=0 and a<imgWidth and b>=0 and b<imgLength):\n",
    "                        accImg[b, a] += 1\n",
    "    return accImg\n",
    "\n",
    "\n",
    "def findCircles(baseImg, img, imgLength, imgWidth):\n",
    "    accImg = createImage(img, imgLength, imgWidth)\n",
    "    accImgLength, accImgWidth = accImg.shape\n",
    "    circleCenters = []\n",
    "    accImgSorted = np.sort(accImg.flatten())\n",
    "    houghTransformLineThreshold_Top = accImgSorted[(accImgLength*accImgWidth)-noOfCircle]\n",
    "    for i in range(0, accImgLength):\n",
    "        for j in range(0, accImgWidth):\n",
    "            if ( accImg[i,j]>=houghTransformLineThreshold_Top ):\n",
    "                circleCenters.append((j,i))\n",
    "    print(\"\tNumber of coins detected : \"+str(len(circleCenters)))\n",
    "    print(\"\tCo-ordinate values : \"+str(circleCenters))\n",
    "    rawImg = np.zeros((imgLength, imgWidth))\n",
    "    for circleCenter in circleCenters:\n",
    "        a = circleCenter[0]\n",
    "        b = circleCenter[1]\n",
    "        center = (a, b)\n",
    "        cir(rawImg, center, radius, (255,255,255), 2) \n",
    "        cir(baseImg, center, radius, (0,0,255), 2)\n",
    "    return rawImg, baseImg\n",
    "\n",
    "\n",
    "def main():\n",
    "    colorImg = imread(imgLoc)\n",
    "    img = imageThreshold(colorImg[:,:,1], thresh)\n",
    "    imgLength, imgWidth = img.shape\n",
    "    sobelXImg, sobelYImg, edgedetect = edgeDetector(img)\n",
    "    displayImage(edgedetect, \"cirlceedgedetection\")\n",
    "    rawCirclesImg, baseCirclesImg = findCircles(colorImg, edgedetect, imgLength, imgWidth)\n",
    "    displayImage(rawCirclesImg, 'coinGrayScale')\n",
    "    displayImage(baseCirclesImg, 'coin')\n",
    "\n",
    "\n",
    "main()"
   ]
  },
  {
   "cell_type": "code",
   "execution_count": null,
   "metadata": {},
   "outputs": [],
   "source": []
  }
 ],
 "metadata": {
  "kernelspec": {
   "display_name": "Python 3",
   "language": "python",
   "name": "python3"
  },
  "language_info": {
   "codemirror_mode": {
    "name": "ipython",
    "version": 3
   },
   "file_extension": ".py",
   "mimetype": "text/x-python",
   "name": "python",
   "nbconvert_exporter": "python",
   "pygments_lexer": "ipython3",
   "version": "3.6.5"
  }
 },
 "nbformat": 4,
 "nbformat_minor": 2
}
